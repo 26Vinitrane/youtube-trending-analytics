{
  "nbformat": 4,
  "nbformat_minor": 0,
  "metadata": {
    "colab": {
      "provenance": []
    },
    "kernelspec": {
      "name": "python3",
      "display_name": "Python 3"
    },
    "language_info": {
      "name": "python"
    }
  },
  "cells": [
    {
      "cell_type": "code",
      "execution_count": null,
      "metadata": {
        "id": "xhYbGfTMBQOP"
      },
      "outputs": [],
      "source": [
        "!pip install -q textblob\n",
        "\n",
        "import pandas as pd\n",
        "from textblob import TextBlob\n"
      ]
    },
    {
      "cell_type": "code",
      "source": [
        "import pandas as pd\n",
        "import numpy as np\n",
        "import matplotlib.pyplot as plt\n",
        "import seaborn as sns\n",
        "from textblob import TextBlob\n",
        "\n",
        "# Show plots inside notebook\n",
        "%matplotlib inline\n"
      ],
      "metadata": {
        "id": "0fJazrtGB5vh"
      },
      "execution_count": null,
      "outputs": []
    },
    {
      "cell_type": "code",
      "source": [
        "us_raw = pd.read_csv('US_youtube_trending_data.csv', engine='python', on_bad_lines='skip')\n",
        "in_raw = pd.read_csv('IN_youtube_trending_data.csv', engine='python', on_bad_lines='skip')\n",
        "gb_raw = pd.read_csv('GB_youtube_trending_data.csv', engine='python', on_bad_lines='skip')\n"
      ],
      "metadata": {
        "id": "LY7ZpzorCBMK"
      },
      "execution_count": null,
      "outputs": []
    },
    {
      "cell_type": "code",
      "source": [
        "# Check basic structure\n",
        "df_us.info()\n",
        "\n",
        "# Preview first few rows\n",
        "df_us.head()\n",
        "\n",
        "# See column names\n",
        "df_us.columns\n"
      ],
      "metadata": {
        "colab": {
          "base_uri": "https://localhost:8080/"
        },
        "id": "nWXWgXReDksc",
        "outputId": "612c09a4-906f-49f0-e634-a7b0a1d06fd5"
      },
      "execution_count": null,
      "outputs": [
        {
          "output_type": "stream",
          "name": "stdout",
          "text": [
            "<class 'pandas.core.frame.DataFrame'>\n",
            "RangeIndex: 268787 entries, 0 to 268786\n",
            "Data columns (total 16 columns):\n",
            " #   Column             Non-Null Count   Dtype \n",
            "---  ------             --------------   ----- \n",
            " 0   video_id           268787 non-null  object\n",
            " 1   title              268787 non-null  object\n",
            " 2   publishedAt        268787 non-null  object\n",
            " 3   channelId          268787 non-null  object\n",
            " 4   channelTitle       268787 non-null  object\n",
            " 5   categoryId         268787 non-null  int64 \n",
            " 6   trending_date      268787 non-null  object\n",
            " 7   tags               268787 non-null  object\n",
            " 8   view_count         268787 non-null  int64 \n",
            " 9   likes              268787 non-null  int64 \n",
            " 10  dislikes           268787 non-null  int64 \n",
            " 11  comment_count      268787 non-null  int64 \n",
            " 12  thumbnail_link     268787 non-null  object\n",
            " 13  comments_disabled  268787 non-null  bool  \n",
            " 14  ratings_disabled   268787 non-null  bool  \n",
            " 15  description        264238 non-null  object\n",
            "dtypes: bool(2), int64(5), object(9)\n",
            "memory usage: 29.2+ MB\n"
          ]
        },
        {
          "output_type": "execute_result",
          "data": {
            "text/plain": [
              "Index(['video_id', 'title', 'publishedAt', 'channelId', 'channelTitle',\n",
              "       'categoryId', 'trending_date', 'tags', 'view_count', 'likes',\n",
              "       'dislikes', 'comment_count', 'thumbnail_link', 'comments_disabled',\n",
              "       'ratings_disabled', 'description'],\n",
              "      dtype='object')"
            ]
          },
          "metadata": {},
          "execution_count": 6
        }
      ]
    },
    {
      "cell_type": "code",
      "source": [
        "# Print column names to confirm correct spelling\n",
        "print(\"US:\", us_raw.columns)\n",
        "print(\"IN:\", in_raw.columns)\n",
        "print(\"GB:\", gb_raw.columns)\n"
      ],
      "metadata": {
        "colab": {
          "base_uri": "https://localhost:8080/"
        },
        "id": "WoYBHqQ9Mhu6",
        "outputId": "22c1a6ac-62b0-46c9-c91a-137227d8461e"
      },
      "execution_count": null,
      "outputs": [
        {
          "output_type": "stream",
          "name": "stdout",
          "text": [
            "US: Index(['video_id', 'title', 'publishedAt', 'channelId', 'channelTitle',\n",
            "       'categoryId', 'trending_date', 'tags', 'view_count', 'likes',\n",
            "       'dislikes', 'comment_count', 'thumbnail_link', 'comments_disabled',\n",
            "       'ratings_disabled', 'description'],\n",
            "      dtype='object')\n",
            "IN: Index(['video_id', 'title', 'publishedAt', 'channelId', 'channelTitle',\n",
            "       'categoryId', 'trending_date', 'tags', 'view_count', 'likes',\n",
            "       'dislikes', 'comment_count', 'thumbnail_link', 'comments_disabled',\n",
            "       'ratings_disabled', 'description'],\n",
            "      dtype='object')\n",
            "GB: Index(['video_id', 'title', 'publishedAt', 'channelId', 'channelTitle',\n",
            "       'categoryId', 'trending_date', 'tags', 'view_count', 'likes',\n",
            "       'dislikes', 'comment_count', 'thumbnail_link', 'comments_disabled',\n",
            "       'ratings_disabled', 'description'],\n",
            "      dtype='object')\n"
          ]
        }
      ]
    },
    {
      "cell_type": "code",
      "source": [
        "# Handle different timestamp column names safely\n",
        "for df in [us_raw, in_raw, gb_raw]:\n",
        "    # Drop missing or duplicate rows\n",
        "    df.dropna(inplace=True)\n",
        "    df.drop_duplicates(inplace=True)\n",
        "\n",
        "    # Lowercase column names for consistency\n",
        "    df.columns = df.columns.str.lower().str.strip()\n",
        "\n",
        "    # Fix publish time conversion\n",
        "    time_cols = [col for col in df.columns if 'publish' in col and 'time' in col]\n",
        "    if time_cols:\n",
        "        df[time_cols[0]] = pd.to_datetime(df[time_cols[0]], errors='coerce')\n",
        "    else:\n",
        "        print(\"No publish time column found in this dataframe!\")\n"
      ],
      "metadata": {
        "colab": {
          "base_uri": "https://localhost:8080/"
        },
        "id": "dR7AEM3GMhcd",
        "outputId": "4b128ed4-a0eb-4d30-9ae0-3291e611f66a"
      },
      "execution_count": null,
      "outputs": [
        {
          "output_type": "stream",
          "name": "stdout",
          "text": [
            "No publish time column found in this dataframe!\n",
            "No publish time column found in this dataframe!\n",
            "No publish time column found in this dataframe!\n"
          ]
        }
      ]
    },
    {
      "cell_type": "code",
      "source": [
        "us_raw.to_csv('cleaned_us.csv', index=False)\n",
        "in_raw.to_csv('cleaned_in.csv', index=False)\n",
        "gb_raw.to_csv('cleaned_gb.csv', index=False)\n"
      ],
      "metadata": {
        "id": "zuk4lI5WOGq6"
      },
      "execution_count": null,
      "outputs": []
    },
    {
      "cell_type": "code",
      "source": [
        "import pandas as pd\n",
        "from textblob import TextBlob\n",
        "\n",
        "# Define a function to calculate sentiment polarity\n",
        "def get_sentiment(text):\n",
        "    try:\n",
        "        return TextBlob(str(text)).sentiment.polarity\n",
        "    except:\n",
        "        return None\n"
      ],
      "metadata": {
        "id": "W-gVPZLWO-j5"
      },
      "execution_count": null,
      "outputs": []
    },
    {
      "cell_type": "code",
      "source": [
        "# Load cleaned datasets\n",
        "us_df = pd.read_csv(\"cleaned_us.csv\")\n",
        "in_df = pd.read_csv(\"cleaned_in.csv\")\n",
        "gb_df = pd.read_csv(\"cleaned_gb.csv\")\n"
      ],
      "metadata": {
        "id": "bqJKvLlaPDXw"
      },
      "execution_count": null,
      "outputs": []
    },
    {
      "cell_type": "code",
      "source": [
        "# US dataset\n",
        "us_df[\"title_sentiment\"] = us_df[\"title\"].apply(get_sentiment)\n",
        "us_df[\"tags_sentiment\"] = us_df[\"tags\"].apply(get_sentiment)\n",
        "\n",
        "# IN dataset\n",
        "in_df[\"title_sentiment\"] = in_df[\"title\"].apply(get_sentiment)\n",
        "in_df[\"tags_sentiment\"] = in_df[\"tags\"].apply(get_sentiment)\n",
        "\n",
        "# GB dataset\n",
        "gb_df[\"title_sentiment\"] = gb_df[\"title\"].apply(get_sentiment)\n",
        "gb_df[\"tags_sentiment\"] = gb_df[\"tags\"].apply(get_sentiment)\n"
      ],
      "metadata": {
        "id": "oE4ifJEtPDDt"
      },
      "execution_count": null,
      "outputs": []
    },
    {
      "cell_type": "code",
      "source": [
        "us_df.to_csv(\"sentiment_us.csv\", index=False)\n",
        "in_df.to_csv(\"sentiment_in.csv\", index=False)\n",
        "gb_df.to_csv(\"sentiment_gb.csv\", index=False)\n"
      ],
      "metadata": {
        "id": "k1M9FONWP6eg"
      },
      "execution_count": null,
      "outputs": []
    },
    {
      "cell_type": "code",
      "source": [
        "# Check correct DataFrame names (rename if needed)\n",
        "# If your datasets were named differently, rename here for consistency\n",
        "df_us = us_df\n",
        "df_in = in_df\n",
        "df_gb = gb_df\n",
        "\n",
        "# OPTIONAL: Add country column for merging later\n",
        "df_us['country'] = 'US'\n",
        "df_in['country'] = 'IN'\n",
        "df_gb['country'] = 'GB'\n",
        "\n",
        "# Save final datasets as CSVs\n",
        "df_us.to_csv(\"final_us_trending.csv\", index=False)\n",
        "df_in.to_csv(\"final_in_trending.csv\", index=False)\n",
        "df_gb.to_csv(\"final_gb_trending.csv\", index=False)\n"
      ],
      "metadata": {
        "id": "hjtj2XclQyx-"
      },
      "execution_count": null,
      "outputs": []
    },
    {
      "cell_type": "code",
      "source": [
        "# Combine the three datasets into one\n",
        "df_all = pd.concat([df_us, df_in, df_gb], ignore_index=True)\n",
        "\n",
        "# Export combined file\n",
        "df_all.to_csv(\"final_youtube_trending_all_regions.csv\", index=False)\n"
      ],
      "metadata": {
        "id": "5VbTb3IqR7lp"
      },
      "execution_count": null,
      "outputs": []
    },
    {
      "cell_type": "code",
      "source": [
        "print(df_us.columns.tolist())\n"
      ],
      "metadata": {
        "colab": {
          "base_uri": "https://localhost:8080/"
        },
        "id": "-co3Kw23Dst_",
        "outputId": "8fb3af59-12b1-434a-aa03-1ac30d2be611"
      },
      "execution_count": null,
      "outputs": [
        {
          "output_type": "stream",
          "name": "stdout",
          "text": [
            "['video_id', 'title', 'publishedAt', 'channelId', 'channelTitle', 'categoryId', 'trending_date', 'tags', 'view_count', 'likes', 'dislikes', 'comment_count', 'thumbnail_link', 'comments_disabled', 'ratings_disabled', 'description']\n"
          ]
        }
      ]
    },
    {
      "cell_type": "code",
      "source": [
        "# Clean column names: strip whitespace and lowercase (already done earlier, but safe to reapply)\n",
        "df_us.columns = df_us.columns.str.strip().str.lower()\n",
        "\n",
        "# Convert dates\n",
        "df_us['publishedat'] = pd.to_datetime(df_us['publishedat'], errors='coerce')\n",
        "df_us['trending_date'] = pd.to_datetime(df_us['trending_date'], format='%y.%d.%m', errors='coerce')\n"
      ],
      "metadata": {
        "id": "LKjGCVVbE-UT"
      },
      "execution_count": null,
      "outputs": []
    },
    {
      "cell_type": "code",
      "source": [
        "df_us = df_us.drop_duplicates()\n"
      ],
      "metadata": {
        "id": "VdhUzRnWFEgQ"
      },
      "execution_count": null,
      "outputs": []
    },
    {
      "cell_type": "code",
      "source": [
        "# Clean title\n",
        "df_us['title'] = df_us['title'].astype(str).str.lower().str.strip()\n",
        "\n",
        "# Clean tags (replace pipe with comma)\n",
        "df_us['tags'] = df_us['tags'].astype(str).str.lower().str.replace('|', ', ').str.strip()\n"
      ],
      "metadata": {
        "id": "cNjhzehGFIn9"
      },
      "execution_count": null,
      "outputs": []
    },
    {
      "cell_type": "code",
      "source": [
        "df_us['region'] = 'US'\n"
      ],
      "metadata": {
        "id": "RAaKZ50JFOZz"
      },
      "execution_count": null,
      "outputs": []
    },
    {
      "cell_type": "code",
      "source": [
        "from textblob import TextBlob\n",
        "\n",
        "df_us['title_sentiment'] = df_us['title'].apply(lambda x: TextBlob(x).sentiment.polarity)\n"
      ],
      "metadata": {
        "id": "FVY3dkSQFTzK"
      },
      "execution_count": null,
      "outputs": []
    },
    {
      "cell_type": "code",
      "source": [
        "def get_sentiment_label(score):\n",
        "    if score > 0.1:\n",
        "        return 'Positive'\n",
        "    elif score < -0.1:\n",
        "        return 'Negative'\n",
        "    else:\n",
        "        return 'Neutral'\n",
        "\n",
        "df_us['sentiment_label'] = df_us['title_sentiment'].apply(get_sentiment_label)\n"
      ],
      "metadata": {
        "id": "Y-hUOFlaFskq"
      },
      "execution_count": null,
      "outputs": []
    },
    {
      "cell_type": "code",
      "source": [
        "import pandas as pd\n",
        "\n",
        "# Load original US data\n",
        "df_us = pd.read_csv('/content/US_youtube_trending_data.csv', on_bad_lines='skip')\n",
        "\n",
        "# Basic cleaning: remove duplicates and nulls\n",
        "df_us.drop_duplicates(inplace=True)\n",
        "df_us.dropna(inplace=True)\n",
        "\n",
        "# Save the cleaned file\n",
        "df_us.to_csv('/content/cleaned_us.csv', index=False)\n",
        "\n",
        "\n"
      ],
      "metadata": {
        "colab": {
          "base_uri": "https://localhost:8080/",
          "height": 550
        },
        "id": "3L5N3iTvFuu8",
        "outputId": "f93a8501-7a4e-452e-a81a-c4fa8771a05f"
      },
      "execution_count": null,
      "outputs": [
        {
          "output_type": "error",
          "ename": "ParserError",
          "evalue": "Error tokenizing data. C error: EOF inside string starting at row 90216",
          "traceback": [
            "\u001b[0;31m---------------------------------------------------------------------------\u001b[0m",
            "\u001b[0;31mParserError\u001b[0m                               Traceback (most recent call last)",
            "\u001b[0;32m/tmp/ipython-input-4-2493876223.py\u001b[0m in \u001b[0;36m<cell line: 0>\u001b[0;34m()\u001b[0m\n\u001b[1;32m      2\u001b[0m \u001b[0;34m\u001b[0m\u001b[0m\n\u001b[1;32m      3\u001b[0m \u001b[0;31m# Load original US data\u001b[0m\u001b[0;34m\u001b[0m\u001b[0;34m\u001b[0m\u001b[0m\n\u001b[0;32m----> 4\u001b[0;31m \u001b[0mdf_us\u001b[0m \u001b[0;34m=\u001b[0m \u001b[0mpd\u001b[0m\u001b[0;34m.\u001b[0m\u001b[0mread_csv\u001b[0m\u001b[0;34m(\u001b[0m\u001b[0;34m'/content/US_youtube_trending_data.csv'\u001b[0m\u001b[0;34m,\u001b[0m \u001b[0mon_bad_lines\u001b[0m\u001b[0;34m=\u001b[0m\u001b[0;34m'skip'\u001b[0m\u001b[0;34m)\u001b[0m\u001b[0;34m\u001b[0m\u001b[0;34m\u001b[0m\u001b[0m\n\u001b[0m\u001b[1;32m      5\u001b[0m \u001b[0;34m\u001b[0m\u001b[0m\n\u001b[1;32m      6\u001b[0m \u001b[0;31m# Basic cleaning: remove duplicates and nulls\u001b[0m\u001b[0;34m\u001b[0m\u001b[0;34m\u001b[0m\u001b[0m\n",
            "\u001b[0;32m/usr/local/lib/python3.11/dist-packages/pandas/io/parsers/readers.py\u001b[0m in \u001b[0;36mread_csv\u001b[0;34m(filepath_or_buffer, sep, delimiter, header, names, index_col, usecols, dtype, engine, converters, true_values, false_values, skipinitialspace, skiprows, skipfooter, nrows, na_values, keep_default_na, na_filter, verbose, skip_blank_lines, parse_dates, infer_datetime_format, keep_date_col, date_parser, date_format, dayfirst, cache_dates, iterator, chunksize, compression, thousands, decimal, lineterminator, quotechar, quoting, doublequote, escapechar, comment, encoding, encoding_errors, dialect, on_bad_lines, delim_whitespace, low_memory, memory_map, float_precision, storage_options, dtype_backend)\u001b[0m\n\u001b[1;32m   1024\u001b[0m     \u001b[0mkwds\u001b[0m\u001b[0;34m.\u001b[0m\u001b[0mupdate\u001b[0m\u001b[0;34m(\u001b[0m\u001b[0mkwds_defaults\u001b[0m\u001b[0;34m)\u001b[0m\u001b[0;34m\u001b[0m\u001b[0;34m\u001b[0m\u001b[0m\n\u001b[1;32m   1025\u001b[0m \u001b[0;34m\u001b[0m\u001b[0m\n\u001b[0;32m-> 1026\u001b[0;31m     \u001b[0;32mreturn\u001b[0m \u001b[0m_read\u001b[0m\u001b[0;34m(\u001b[0m\u001b[0mfilepath_or_buffer\u001b[0m\u001b[0;34m,\u001b[0m \u001b[0mkwds\u001b[0m\u001b[0;34m)\u001b[0m\u001b[0;34m\u001b[0m\u001b[0;34m\u001b[0m\u001b[0m\n\u001b[0m\u001b[1;32m   1027\u001b[0m \u001b[0;34m\u001b[0m\u001b[0m\n\u001b[1;32m   1028\u001b[0m \u001b[0;34m\u001b[0m\u001b[0m\n",
            "\u001b[0;32m/usr/local/lib/python3.11/dist-packages/pandas/io/parsers/readers.py\u001b[0m in \u001b[0;36m_read\u001b[0;34m(filepath_or_buffer, kwds)\u001b[0m\n\u001b[1;32m    624\u001b[0m \u001b[0;34m\u001b[0m\u001b[0m\n\u001b[1;32m    625\u001b[0m     \u001b[0;32mwith\u001b[0m \u001b[0mparser\u001b[0m\u001b[0;34m:\u001b[0m\u001b[0;34m\u001b[0m\u001b[0;34m\u001b[0m\u001b[0m\n\u001b[0;32m--> 626\u001b[0;31m         \u001b[0;32mreturn\u001b[0m \u001b[0mparser\u001b[0m\u001b[0;34m.\u001b[0m\u001b[0mread\u001b[0m\u001b[0;34m(\u001b[0m\u001b[0mnrows\u001b[0m\u001b[0;34m)\u001b[0m\u001b[0;34m\u001b[0m\u001b[0;34m\u001b[0m\u001b[0m\n\u001b[0m\u001b[1;32m    627\u001b[0m \u001b[0;34m\u001b[0m\u001b[0m\n\u001b[1;32m    628\u001b[0m \u001b[0;34m\u001b[0m\u001b[0m\n",
            "\u001b[0;32m/usr/local/lib/python3.11/dist-packages/pandas/io/parsers/readers.py\u001b[0m in \u001b[0;36mread\u001b[0;34m(self, nrows)\u001b[0m\n\u001b[1;32m   1921\u001b[0m                     \u001b[0mcolumns\u001b[0m\u001b[0;34m,\u001b[0m\u001b[0;34m\u001b[0m\u001b[0;34m\u001b[0m\u001b[0m\n\u001b[1;32m   1922\u001b[0m                     \u001b[0mcol_dict\u001b[0m\u001b[0;34m,\u001b[0m\u001b[0;34m\u001b[0m\u001b[0;34m\u001b[0m\u001b[0m\n\u001b[0;32m-> 1923\u001b[0;31m                 \u001b[0;34m)\u001b[0m \u001b[0;34m=\u001b[0m \u001b[0mself\u001b[0m\u001b[0;34m.\u001b[0m\u001b[0m_engine\u001b[0m\u001b[0;34m.\u001b[0m\u001b[0mread\u001b[0m\u001b[0;34m(\u001b[0m  \u001b[0;31m# type: ignore[attr-defined]\u001b[0m\u001b[0;34m\u001b[0m\u001b[0;34m\u001b[0m\u001b[0m\n\u001b[0m\u001b[1;32m   1924\u001b[0m                     \u001b[0mnrows\u001b[0m\u001b[0;34m\u001b[0m\u001b[0;34m\u001b[0m\u001b[0m\n\u001b[1;32m   1925\u001b[0m                 )\n",
            "\u001b[0;32m/usr/local/lib/python3.11/dist-packages/pandas/io/parsers/c_parser_wrapper.py\u001b[0m in \u001b[0;36mread\u001b[0;34m(self, nrows)\u001b[0m\n\u001b[1;32m    232\u001b[0m         \u001b[0;32mtry\u001b[0m\u001b[0;34m:\u001b[0m\u001b[0;34m\u001b[0m\u001b[0;34m\u001b[0m\u001b[0m\n\u001b[1;32m    233\u001b[0m             \u001b[0;32mif\u001b[0m \u001b[0mself\u001b[0m\u001b[0;34m.\u001b[0m\u001b[0mlow_memory\u001b[0m\u001b[0;34m:\u001b[0m\u001b[0;34m\u001b[0m\u001b[0;34m\u001b[0m\u001b[0m\n\u001b[0;32m--> 234\u001b[0;31m                 \u001b[0mchunks\u001b[0m \u001b[0;34m=\u001b[0m \u001b[0mself\u001b[0m\u001b[0;34m.\u001b[0m\u001b[0m_reader\u001b[0m\u001b[0;34m.\u001b[0m\u001b[0mread_low_memory\u001b[0m\u001b[0;34m(\u001b[0m\u001b[0mnrows\u001b[0m\u001b[0;34m)\u001b[0m\u001b[0;34m\u001b[0m\u001b[0;34m\u001b[0m\u001b[0m\n\u001b[0m\u001b[1;32m    235\u001b[0m                 \u001b[0;31m# destructive to chunks\u001b[0m\u001b[0;34m\u001b[0m\u001b[0;34m\u001b[0m\u001b[0m\n\u001b[1;32m    236\u001b[0m                 \u001b[0mdata\u001b[0m \u001b[0;34m=\u001b[0m \u001b[0m_concatenate_chunks\u001b[0m\u001b[0;34m(\u001b[0m\u001b[0mchunks\u001b[0m\u001b[0;34m)\u001b[0m\u001b[0;34m\u001b[0m\u001b[0;34m\u001b[0m\u001b[0m\n",
            "\u001b[0;32mparsers.pyx\u001b[0m in \u001b[0;36mpandas._libs.parsers.TextReader.read_low_memory\u001b[0;34m()\u001b[0m\n",
            "\u001b[0;32mparsers.pyx\u001b[0m in \u001b[0;36mpandas._libs.parsers.TextReader._read_rows\u001b[0;34m()\u001b[0m\n",
            "\u001b[0;32mparsers.pyx\u001b[0m in \u001b[0;36mpandas._libs.parsers.TextReader._tokenize_rows\u001b[0;34m()\u001b[0m\n",
            "\u001b[0;32mparsers.pyx\u001b[0m in \u001b[0;36mpandas._libs.parsers.TextReader._check_tokenize_status\u001b[0;34m()\u001b[0m\n",
            "\u001b[0;32mparsers.pyx\u001b[0m in \u001b[0;36mpandas._libs.parsers.raise_parser_error\u001b[0;34m()\u001b[0m\n",
            "\u001b[0;31mParserError\u001b[0m: Error tokenizing data. C error: EOF inside string starting at row 90216"
          ]
        }
      ]
    },
    {
      "cell_type": "code",
      "source": [
        "import pandas as pd\n",
        "\n"
      ],
      "metadata": {
        "id": "pZlb76l5aFGZ"
      },
      "execution_count": null,
      "outputs": []
    },
    {
      "cell_type": "code",
      "source": [
        "df_in = pd.read_csv('/content/IN_youtube_trending_data.csv', engine='python', on_bad_lines='skip')\n",
        "\n"
      ],
      "metadata": {
        "id": "J9C_NwDka5V1"
      },
      "execution_count": null,
      "outputs": []
    },
    {
      "cell_type": "code",
      "source": [
        "import pandas as pd\n",
        "\n",
        "df_in = pd.read_csv('/content/IN_youtube_trending_data.csv', engine='python', on_bad_lines='skip')\n"
      ],
      "metadata": {
        "id": "VYrqUe5scvf3"
      },
      "execution_count": null,
      "outputs": []
    },
    {
      "cell_type": "code",
      "source": [
        "# View basic structure\n",
        "df_in.info()\n",
        "\n",
        "# View all column names\n",
        "print(df_in.columns.tolist())\n"
      ],
      "metadata": {
        "colab": {
          "base_uri": "https://localhost:8080/"
        },
        "id": "_thbisvAc1zO",
        "outputId": "9dc49ea3-61e2-47af-fddc-f032d33bb248"
      },
      "execution_count": null,
      "outputs": [
        {
          "output_type": "stream",
          "name": "stdout",
          "text": [
            "<class 'pandas.core.frame.DataFrame'>\n",
            "RangeIndex: 251277 entries, 0 to 251276\n",
            "Data columns (total 16 columns):\n",
            " #   Column             Non-Null Count   Dtype \n",
            "---  ------             --------------   ----- \n",
            " 0   video_id           251277 non-null  object\n",
            " 1   title              251277 non-null  object\n",
            " 2   publishedAt        251277 non-null  object\n",
            " 3   channelId          251277 non-null  object\n",
            " 4   channelTitle       251276 non-null  object\n",
            " 5   categoryId         251277 non-null  int64 \n",
            " 6   trending_date      251277 non-null  object\n",
            " 7   tags               251277 non-null  object\n",
            " 8   view_count         251277 non-null  int64 \n",
            " 9   likes              251277 non-null  int64 \n",
            " 10  dislikes           251277 non-null  int64 \n",
            " 11  comment_count      251277 non-null  int64 \n",
            " 12  thumbnail_link     251277 non-null  object\n",
            " 13  comments_disabled  251277 non-null  bool  \n",
            " 14  ratings_disabled   251277 non-null  bool  \n",
            " 15  description        231822 non-null  object\n",
            "dtypes: bool(2), int64(5), object(9)\n",
            "memory usage: 27.3+ MB\n",
            "['video_id', 'title', 'publishedAt', 'channelId', 'channelTitle', 'categoryId', 'trending_date', 'tags', 'view_count', 'likes', 'dislikes', 'comment_count', 'thumbnail_link', 'comments_disabled', 'ratings_disabled', 'description']\n"
          ]
        }
      ]
    },
    {
      "cell_type": "code",
      "source": [
        "df_in.rename(columns={\n",
        "    'publishedAt': 'published_at',\n",
        "    'channelId': 'channel_id',\n",
        "    'channelTitle': 'channel_title',\n",
        "    'categoryId': 'category_id',\n",
        "    'trending_date': 'trending_date',\n",
        "    'view_count': 'views',\n",
        "    'like_count': 'likes',\n",
        "    'dislike_count': 'dislikes',\n",
        "    'comment_count': 'comments',\n",
        "    'thumbnail_link': 'thumbnail',\n",
        "    'comments_disabled': 'comments_disabled',\n",
        "    'ratings_disabled': 'ratings_disabled'\n",
        "}, inplace=True)\n"
      ],
      "metadata": {
        "id": "7NJDahW4c7LQ"
      },
      "execution_count": null,
      "outputs": []
    },
    {
      "cell_type": "code",
      "source": [
        "df_in['published_at'] = pd.to_datetime(df_in['published_at'], errors='coerce')\n",
        "df_in['trending_date'] = pd.to_datetime(df_in['trending_date'], format='%y.%d.%m', errors='coerce')\n"
      ],
      "metadata": {
        "id": "_SwC3zSHdBd3"
      },
      "execution_count": null,
      "outputs": []
    },
    {
      "cell_type": "code",
      "source": [
        "# Drop duplicate video entries (based on video_id and trending_date)\n",
        "df_in.drop_duplicates(subset=['video_id', 'trending_date'], inplace=True)\n",
        "\n",
        "# Drop rows with missing published_at or trending_date\n",
        "df_in.dropna(subset=['published_at', 'trending_date'], inplace=True)\n"
      ],
      "metadata": {
        "id": "BC4vgeP1dFUE"
      },
      "execution_count": null,
      "outputs": []
    },
    {
      "cell_type": "code",
      "source": [
        "df_in.to_csv('/content/cleaned_in.csv', index=False)\n"
      ],
      "metadata": {
        "id": "ynv-_CuRdIne"
      },
      "execution_count": null,
      "outputs": []
    },
    {
      "cell_type": "code",
      "source": [
        "from google.colab import files\n",
        "files.download('/content/cleaned_in.csv')\n"
      ],
      "metadata": {
        "colab": {
          "base_uri": "https://localhost:8080/",
          "height": 17
        },
        "id": "nvvTyFc8dMiL",
        "outputId": "bed5d9c9-e736-49f6-cb35-ab3549cedbae"
      },
      "execution_count": null,
      "outputs": [
        {
          "output_type": "display_data",
          "data": {
            "text/plain": [
              "<IPython.core.display.Javascript object>"
            ],
            "application/javascript": [
              "\n",
              "    async function download(id, filename, size) {\n",
              "      if (!google.colab.kernel.accessAllowed) {\n",
              "        return;\n",
              "      }\n",
              "      const div = document.createElement('div');\n",
              "      const label = document.createElement('label');\n",
              "      label.textContent = `Downloading \"${filename}\": `;\n",
              "      div.appendChild(label);\n",
              "      const progress = document.createElement('progress');\n",
              "      progress.max = size;\n",
              "      div.appendChild(progress);\n",
              "      document.body.appendChild(div);\n",
              "\n",
              "      const buffers = [];\n",
              "      let downloaded = 0;\n",
              "\n",
              "      const channel = await google.colab.kernel.comms.open(id);\n",
              "      // Send a message to notify the kernel that we're ready.\n",
              "      channel.send({})\n",
              "\n",
              "      for await (const message of channel.messages) {\n",
              "        // Send a message to notify the kernel that we're ready.\n",
              "        channel.send({})\n",
              "        if (message.buffers) {\n",
              "          for (const buffer of message.buffers) {\n",
              "            buffers.push(buffer);\n",
              "            downloaded += buffer.byteLength;\n",
              "            progress.value = downloaded;\n",
              "          }\n",
              "        }\n",
              "      }\n",
              "      const blob = new Blob(buffers, {type: 'application/binary'});\n",
              "      const a = document.createElement('a');\n",
              "      a.href = window.URL.createObjectURL(blob);\n",
              "      a.download = filename;\n",
              "      div.appendChild(a);\n",
              "      a.click();\n",
              "      div.remove();\n",
              "    }\n",
              "  "
            ]
          },
          "metadata": {}
        },
        {
          "output_type": "display_data",
          "data": {
            "text/plain": [
              "<IPython.core.display.Javascript object>"
            ],
            "application/javascript": [
              "download(\"download_ba22c5ff-5e43-48a4-b585-00d35af1385a\", \"cleaned_in.csv\", 171)"
            ]
          },
          "metadata": {}
        }
      ]
    },
    {
      "cell_type": "code",
      "source": [
        "df_gb = pd.read_csv('/content/GB_youtube_trending_data.csv', engine='python', on_bad_lines='skip')\n"
      ],
      "metadata": {
        "id": "0Z0py1qydZ5a"
      },
      "execution_count": null,
      "outputs": []
    },
    {
      "cell_type": "code",
      "source": [
        "import pandas as pd\n",
        "\n",
        "df_gb = pd.read_csv('/content/GB_youtube_trending_data.csv', engine='python', on_bad_lines='skip')\n",
        "\n"
      ],
      "metadata": {
        "id": "N_Tf7OslddqB"
      },
      "execution_count": null,
      "outputs": []
    },
    {
      "cell_type": "code",
      "source": [
        "# Check data types and nulls\n",
        "df_gb.info()\n",
        "\n",
        "# Print column names\n",
        "print(df_gb.columns.tolist())\n",
        "\n",
        "# Preview data\n",
        "df_gb.head()\n"
      ],
      "metadata": {
        "colab": {
          "base_uri": "https://localhost:8080/",
          "height": 1000
        },
        "id": "K4zgu9jqeJ01",
        "outputId": "d618392f-2178-4731-f4ee-c108e47193e3"
      },
      "execution_count": null,
      "outputs": [
        {
          "output_type": "stream",
          "name": "stdout",
          "text": [
            "<class 'pandas.core.frame.DataFrame'>\n",
            "RangeIndex: 173272 entries, 0 to 173271\n",
            "Data columns (total 16 columns):\n",
            " #   Column             Non-Null Count   Dtype \n",
            "---  ------             --------------   ----- \n",
            " 0   video_id           173272 non-null  object\n",
            " 1   title              173272 non-null  object\n",
            " 2   publishedAt        173272 non-null  object\n",
            " 3   channelId          173272 non-null  object\n",
            " 4   channelTitle       173272 non-null  object\n",
            " 5   categoryId         173272 non-null  int64 \n",
            " 6   trending_date      173272 non-null  object\n",
            " 7   tags               173272 non-null  object\n",
            " 8   view_count         173272 non-null  int64 \n",
            " 9   likes              173272 non-null  int64 \n",
            " 10  dislikes           173272 non-null  int64 \n",
            " 11  comment_count      173272 non-null  int64 \n",
            " 12  thumbnail_link     173272 non-null  object\n",
            " 13  comments_disabled  173272 non-null  bool  \n",
            " 14  ratings_disabled   173272 non-null  bool  \n",
            " 15  description        169374 non-null  object\n",
            "dtypes: bool(2), int64(5), object(9)\n",
            "memory usage: 18.8+ MB\n",
            "['video_id', 'title', 'publishedAt', 'channelId', 'channelTitle', 'categoryId', 'trending_date', 'tags', 'view_count', 'likes', 'dislikes', 'comment_count', 'thumbnail_link', 'comments_disabled', 'ratings_disabled', 'description']\n"
          ]
        },
        {
          "output_type": "execute_result",
          "data": {
            "text/plain": [
              "      video_id                                              title  \\\n",
              "0  J78aPJ3VyNs  I left youtube for a month and THIS is what ha...   \n",
              "1  9nidKH8cM38       TAXI CAB SLAYER KILLS 'TO KNOW HOW IT FEELS'   \n",
              "2  M9Pmf9AB4Mo  Apex Legends | Stories from the Outlands – “Th...   \n",
              "3  kgUV1MaD_M8                     Nines - Clout (Official Video)   \n",
              "4  49Z6Mv4_WCA                 i don't know what im doing anymore   \n",
              "\n",
              "            publishedAt                 channelId   channelTitle  categoryId  \\\n",
              "0  2020-08-11T16:34:06Z  UCYzPXprvl5Y-Sf0g4vX-m6g  jacksepticeye          24   \n",
              "1  2020-08-11T20:00:45Z  UCFMbX7frWZfuWdjAML0babA  Eleanor Neale          27   \n",
              "2  2020-08-11T17:00:10Z  UC0ZV6M2THA81QT9hrVWJG3A   Apex Legends          20   \n",
              "3  2020-08-10T18:30:28Z  UCvDkzrj8ZPlBqRd6fIxdhTw          Nines          24   \n",
              "4  2020-08-11T20:24:34Z  UCtinbF-Q-fVthA0qrFQTgXQ   CaseyNeistat          22   \n",
              "\n",
              "          trending_date                                               tags  \\\n",
              "0  2020-08-12T00:00:00Z  jacksepticeye|funny|funny meme|memes|jacksepti...   \n",
              "1  2020-08-12T00:00:00Z  eleanor|neale|eleanor neale|eleanor neale true...   \n",
              "2  2020-08-12T00:00:00Z  Apex Legends|Apex Legends characters|new Apex ...   \n",
              "3  2020-08-12T00:00:00Z  Nines|Trapper of the year|Crop Circle|Nines Tr...   \n",
              "4  2020-08-12T00:00:00Z                                             [None]   \n",
              "\n",
              "   view_count   likes  dislikes  comment_count  \\\n",
              "0     2038853  353790      2628          40228   \n",
              "1      236830   16423       209           1642   \n",
              "2     2381688  146739      2794          16549   \n",
              "3      613785   37567       669           2101   \n",
              "4      940036   87113      1860           7052   \n",
              "\n",
              "                                   thumbnail_link  comments_disabled  \\\n",
              "0  https://i.ytimg.com/vi/J78aPJ3VyNs/default.jpg              False   \n",
              "1  https://i.ytimg.com/vi/9nidKH8cM38/default.jpg              False   \n",
              "2  https://i.ytimg.com/vi/M9Pmf9AB4Mo/default.jpg              False   \n",
              "3  https://i.ytimg.com/vi/kgUV1MaD_M8/default.jpg              False   \n",
              "4  https://i.ytimg.com/vi/49Z6Mv4_WCA/default.jpg              False   \n",
              "\n",
              "   ratings_disabled                                        description  \n",
              "0             False  I left youtube for a month and this is what ha...  \n",
              "1             False  The first 1000 people to click the link will g...  \n",
              "2             False  While running her own modding shop, Ramya Pare...  \n",
              "3             False  Nines - Clout (Official Video)Listen to Clout ...  \n",
              "4             False  ssend love to my sponsor; for a super Limited ...  "
            ],
            "text/html": [
              "\n",
              "  <div id=\"df-9137cbc5-8751-4522-a22f-38b88e201201\" class=\"colab-df-container\">\n",
              "    <div>\n",
              "<style scoped>\n",
              "    .dataframe tbody tr th:only-of-type {\n",
              "        vertical-align: middle;\n",
              "    }\n",
              "\n",
              "    .dataframe tbody tr th {\n",
              "        vertical-align: top;\n",
              "    }\n",
              "\n",
              "    .dataframe thead th {\n",
              "        text-align: right;\n",
              "    }\n",
              "</style>\n",
              "<table border=\"1\" class=\"dataframe\">\n",
              "  <thead>\n",
              "    <tr style=\"text-align: right;\">\n",
              "      <th></th>\n",
              "      <th>video_id</th>\n",
              "      <th>title</th>\n",
              "      <th>publishedAt</th>\n",
              "      <th>channelId</th>\n",
              "      <th>channelTitle</th>\n",
              "      <th>categoryId</th>\n",
              "      <th>trending_date</th>\n",
              "      <th>tags</th>\n",
              "      <th>view_count</th>\n",
              "      <th>likes</th>\n",
              "      <th>dislikes</th>\n",
              "      <th>comment_count</th>\n",
              "      <th>thumbnail_link</th>\n",
              "      <th>comments_disabled</th>\n",
              "      <th>ratings_disabled</th>\n",
              "      <th>description</th>\n",
              "    </tr>\n",
              "  </thead>\n",
              "  <tbody>\n",
              "    <tr>\n",
              "      <th>0</th>\n",
              "      <td>J78aPJ3VyNs</td>\n",
              "      <td>I left youtube for a month and THIS is what ha...</td>\n",
              "      <td>2020-08-11T16:34:06Z</td>\n",
              "      <td>UCYzPXprvl5Y-Sf0g4vX-m6g</td>\n",
              "      <td>jacksepticeye</td>\n",
              "      <td>24</td>\n",
              "      <td>2020-08-12T00:00:00Z</td>\n",
              "      <td>jacksepticeye|funny|funny meme|memes|jacksepti...</td>\n",
              "      <td>2038853</td>\n",
              "      <td>353790</td>\n",
              "      <td>2628</td>\n",
              "      <td>40228</td>\n",
              "      <td>https://i.ytimg.com/vi/J78aPJ3VyNs/default.jpg</td>\n",
              "      <td>False</td>\n",
              "      <td>False</td>\n",
              "      <td>I left youtube for a month and this is what ha...</td>\n",
              "    </tr>\n",
              "    <tr>\n",
              "      <th>1</th>\n",
              "      <td>9nidKH8cM38</td>\n",
              "      <td>TAXI CAB SLAYER KILLS 'TO KNOW HOW IT FEELS'</td>\n",
              "      <td>2020-08-11T20:00:45Z</td>\n",
              "      <td>UCFMbX7frWZfuWdjAML0babA</td>\n",
              "      <td>Eleanor Neale</td>\n",
              "      <td>27</td>\n",
              "      <td>2020-08-12T00:00:00Z</td>\n",
              "      <td>eleanor|neale|eleanor neale|eleanor neale true...</td>\n",
              "      <td>236830</td>\n",
              "      <td>16423</td>\n",
              "      <td>209</td>\n",
              "      <td>1642</td>\n",
              "      <td>https://i.ytimg.com/vi/9nidKH8cM38/default.jpg</td>\n",
              "      <td>False</td>\n",
              "      <td>False</td>\n",
              "      <td>The first 1000 people to click the link will g...</td>\n",
              "    </tr>\n",
              "    <tr>\n",
              "      <th>2</th>\n",
              "      <td>M9Pmf9AB4Mo</td>\n",
              "      <td>Apex Legends | Stories from the Outlands – “Th...</td>\n",
              "      <td>2020-08-11T17:00:10Z</td>\n",
              "      <td>UC0ZV6M2THA81QT9hrVWJG3A</td>\n",
              "      <td>Apex Legends</td>\n",
              "      <td>20</td>\n",
              "      <td>2020-08-12T00:00:00Z</td>\n",
              "      <td>Apex Legends|Apex Legends characters|new Apex ...</td>\n",
              "      <td>2381688</td>\n",
              "      <td>146739</td>\n",
              "      <td>2794</td>\n",
              "      <td>16549</td>\n",
              "      <td>https://i.ytimg.com/vi/M9Pmf9AB4Mo/default.jpg</td>\n",
              "      <td>False</td>\n",
              "      <td>False</td>\n",
              "      <td>While running her own modding shop, Ramya Pare...</td>\n",
              "    </tr>\n",
              "    <tr>\n",
              "      <th>3</th>\n",
              "      <td>kgUV1MaD_M8</td>\n",
              "      <td>Nines - Clout (Official Video)</td>\n",
              "      <td>2020-08-10T18:30:28Z</td>\n",
              "      <td>UCvDkzrj8ZPlBqRd6fIxdhTw</td>\n",
              "      <td>Nines</td>\n",
              "      <td>24</td>\n",
              "      <td>2020-08-12T00:00:00Z</td>\n",
              "      <td>Nines|Trapper of the year|Crop Circle|Nines Tr...</td>\n",
              "      <td>613785</td>\n",
              "      <td>37567</td>\n",
              "      <td>669</td>\n",
              "      <td>2101</td>\n",
              "      <td>https://i.ytimg.com/vi/kgUV1MaD_M8/default.jpg</td>\n",
              "      <td>False</td>\n",
              "      <td>False</td>\n",
              "      <td>Nines - Clout (Official Video)Listen to Clout ...</td>\n",
              "    </tr>\n",
              "    <tr>\n",
              "      <th>4</th>\n",
              "      <td>49Z6Mv4_WCA</td>\n",
              "      <td>i don't know what im doing anymore</td>\n",
              "      <td>2020-08-11T20:24:34Z</td>\n",
              "      <td>UCtinbF-Q-fVthA0qrFQTgXQ</td>\n",
              "      <td>CaseyNeistat</td>\n",
              "      <td>22</td>\n",
              "      <td>2020-08-12T00:00:00Z</td>\n",
              "      <td>[None]</td>\n",
              "      <td>940036</td>\n",
              "      <td>87113</td>\n",
              "      <td>1860</td>\n",
              "      <td>7052</td>\n",
              "      <td>https://i.ytimg.com/vi/49Z6Mv4_WCA/default.jpg</td>\n",
              "      <td>False</td>\n",
              "      <td>False</td>\n",
              "      <td>ssend love to my sponsor; for a super Limited ...</td>\n",
              "    </tr>\n",
              "  </tbody>\n",
              "</table>\n",
              "</div>\n",
              "    <div class=\"colab-df-buttons\">\n",
              "\n",
              "  <div class=\"colab-df-container\">\n",
              "    <button class=\"colab-df-convert\" onclick=\"convertToInteractive('df-9137cbc5-8751-4522-a22f-38b88e201201')\"\n",
              "            title=\"Convert this dataframe to an interactive table.\"\n",
              "            style=\"display:none;\">\n",
              "\n",
              "  <svg xmlns=\"http://www.w3.org/2000/svg\" height=\"24px\" viewBox=\"0 -960 960 960\">\n",
              "    <path d=\"M120-120v-720h720v720H120Zm60-500h600v-160H180v160Zm220 220h160v-160H400v160Zm0 220h160v-160H400v160ZM180-400h160v-160H180v160Zm440 0h160v-160H620v160ZM180-180h160v-160H180v160Zm440 0h160v-160H620v160Z\"/>\n",
              "  </svg>\n",
              "    </button>\n",
              "\n",
              "  <style>\n",
              "    .colab-df-container {\n",
              "      display:flex;\n",
              "      gap: 12px;\n",
              "    }\n",
              "\n",
              "    .colab-df-convert {\n",
              "      background-color: #E8F0FE;\n",
              "      border: none;\n",
              "      border-radius: 50%;\n",
              "      cursor: pointer;\n",
              "      display: none;\n",
              "      fill: #1967D2;\n",
              "      height: 32px;\n",
              "      padding: 0 0 0 0;\n",
              "      width: 32px;\n",
              "    }\n",
              "\n",
              "    .colab-df-convert:hover {\n",
              "      background-color: #E2EBFA;\n",
              "      box-shadow: 0px 1px 2px rgba(60, 64, 67, 0.3), 0px 1px 3px 1px rgba(60, 64, 67, 0.15);\n",
              "      fill: #174EA6;\n",
              "    }\n",
              "\n",
              "    .colab-df-buttons div {\n",
              "      margin-bottom: 4px;\n",
              "    }\n",
              "\n",
              "    [theme=dark] .colab-df-convert {\n",
              "      background-color: #3B4455;\n",
              "      fill: #D2E3FC;\n",
              "    }\n",
              "\n",
              "    [theme=dark] .colab-df-convert:hover {\n",
              "      background-color: #434B5C;\n",
              "      box-shadow: 0px 1px 3px 1px rgba(0, 0, 0, 0.15);\n",
              "      filter: drop-shadow(0px 1px 2px rgba(0, 0, 0, 0.3));\n",
              "      fill: #FFFFFF;\n",
              "    }\n",
              "  </style>\n",
              "\n",
              "    <script>\n",
              "      const buttonEl =\n",
              "        document.querySelector('#df-9137cbc5-8751-4522-a22f-38b88e201201 button.colab-df-convert');\n",
              "      buttonEl.style.display =\n",
              "        google.colab.kernel.accessAllowed ? 'block' : 'none';\n",
              "\n",
              "      async function convertToInteractive(key) {\n",
              "        const element = document.querySelector('#df-9137cbc5-8751-4522-a22f-38b88e201201');\n",
              "        const dataTable =\n",
              "          await google.colab.kernel.invokeFunction('convertToInteractive',\n",
              "                                                    [key], {});\n",
              "        if (!dataTable) return;\n",
              "\n",
              "        const docLinkHtml = 'Like what you see? Visit the ' +\n",
              "          '<a target=\"_blank\" href=https://colab.research.google.com/notebooks/data_table.ipynb>data table notebook</a>'\n",
              "          + ' to learn more about interactive tables.';\n",
              "        element.innerHTML = '';\n",
              "        dataTable['output_type'] = 'display_data';\n",
              "        await google.colab.output.renderOutput(dataTable, element);\n",
              "        const docLink = document.createElement('div');\n",
              "        docLink.innerHTML = docLinkHtml;\n",
              "        element.appendChild(docLink);\n",
              "      }\n",
              "    </script>\n",
              "  </div>\n",
              "\n",
              "\n",
              "    <div id=\"df-75e477e3-bd67-4c4b-8f26-a8b7cfde24e0\">\n",
              "      <button class=\"colab-df-quickchart\" onclick=\"quickchart('df-75e477e3-bd67-4c4b-8f26-a8b7cfde24e0')\"\n",
              "                title=\"Suggest charts\"\n",
              "                style=\"display:none;\">\n",
              "\n",
              "<svg xmlns=\"http://www.w3.org/2000/svg\" height=\"24px\"viewBox=\"0 0 24 24\"\n",
              "     width=\"24px\">\n",
              "    <g>\n",
              "        <path d=\"M19 3H5c-1.1 0-2 .9-2 2v14c0 1.1.9 2 2 2h14c1.1 0 2-.9 2-2V5c0-1.1-.9-2-2-2zM9 17H7v-7h2v7zm4 0h-2V7h2v10zm4 0h-2v-4h2v4z\"/>\n",
              "    </g>\n",
              "</svg>\n",
              "      </button>\n",
              "\n",
              "<style>\n",
              "  .colab-df-quickchart {\n",
              "      --bg-color: #E8F0FE;\n",
              "      --fill-color: #1967D2;\n",
              "      --hover-bg-color: #E2EBFA;\n",
              "      --hover-fill-color: #174EA6;\n",
              "      --disabled-fill-color: #AAA;\n",
              "      --disabled-bg-color: #DDD;\n",
              "  }\n",
              "\n",
              "  [theme=dark] .colab-df-quickchart {\n",
              "      --bg-color: #3B4455;\n",
              "      --fill-color: #D2E3FC;\n",
              "      --hover-bg-color: #434B5C;\n",
              "      --hover-fill-color: #FFFFFF;\n",
              "      --disabled-bg-color: #3B4455;\n",
              "      --disabled-fill-color: #666;\n",
              "  }\n",
              "\n",
              "  .colab-df-quickchart {\n",
              "    background-color: var(--bg-color);\n",
              "    border: none;\n",
              "    border-radius: 50%;\n",
              "    cursor: pointer;\n",
              "    display: none;\n",
              "    fill: var(--fill-color);\n",
              "    height: 32px;\n",
              "    padding: 0;\n",
              "    width: 32px;\n",
              "  }\n",
              "\n",
              "  .colab-df-quickchart:hover {\n",
              "    background-color: var(--hover-bg-color);\n",
              "    box-shadow: 0 1px 2px rgba(60, 64, 67, 0.3), 0 1px 3px 1px rgba(60, 64, 67, 0.15);\n",
              "    fill: var(--button-hover-fill-color);\n",
              "  }\n",
              "\n",
              "  .colab-df-quickchart-complete:disabled,\n",
              "  .colab-df-quickchart-complete:disabled:hover {\n",
              "    background-color: var(--disabled-bg-color);\n",
              "    fill: var(--disabled-fill-color);\n",
              "    box-shadow: none;\n",
              "  }\n",
              "\n",
              "  .colab-df-spinner {\n",
              "    border: 2px solid var(--fill-color);\n",
              "    border-color: transparent;\n",
              "    border-bottom-color: var(--fill-color);\n",
              "    animation:\n",
              "      spin 1s steps(1) infinite;\n",
              "  }\n",
              "\n",
              "  @keyframes spin {\n",
              "    0% {\n",
              "      border-color: transparent;\n",
              "      border-bottom-color: var(--fill-color);\n",
              "      border-left-color: var(--fill-color);\n",
              "    }\n",
              "    20% {\n",
              "      border-color: transparent;\n",
              "      border-left-color: var(--fill-color);\n",
              "      border-top-color: var(--fill-color);\n",
              "    }\n",
              "    30% {\n",
              "      border-color: transparent;\n",
              "      border-left-color: var(--fill-color);\n",
              "      border-top-color: var(--fill-color);\n",
              "      border-right-color: var(--fill-color);\n",
              "    }\n",
              "    40% {\n",
              "      border-color: transparent;\n",
              "      border-right-color: var(--fill-color);\n",
              "      border-top-color: var(--fill-color);\n",
              "    }\n",
              "    60% {\n",
              "      border-color: transparent;\n",
              "      border-right-color: var(--fill-color);\n",
              "    }\n",
              "    80% {\n",
              "      border-color: transparent;\n",
              "      border-right-color: var(--fill-color);\n",
              "      border-bottom-color: var(--fill-color);\n",
              "    }\n",
              "    90% {\n",
              "      border-color: transparent;\n",
              "      border-bottom-color: var(--fill-color);\n",
              "    }\n",
              "  }\n",
              "</style>\n",
              "\n",
              "      <script>\n",
              "        async function quickchart(key) {\n",
              "          const quickchartButtonEl =\n",
              "            document.querySelector('#' + key + ' button');\n",
              "          quickchartButtonEl.disabled = true;  // To prevent multiple clicks.\n",
              "          quickchartButtonEl.classList.add('colab-df-spinner');\n",
              "          try {\n",
              "            const charts = await google.colab.kernel.invokeFunction(\n",
              "                'suggestCharts', [key], {});\n",
              "          } catch (error) {\n",
              "            console.error('Error during call to suggestCharts:', error);\n",
              "          }\n",
              "          quickchartButtonEl.classList.remove('colab-df-spinner');\n",
              "          quickchartButtonEl.classList.add('colab-df-quickchart-complete');\n",
              "        }\n",
              "        (() => {\n",
              "          let quickchartButtonEl =\n",
              "            document.querySelector('#df-75e477e3-bd67-4c4b-8f26-a8b7cfde24e0 button');\n",
              "          quickchartButtonEl.style.display =\n",
              "            google.colab.kernel.accessAllowed ? 'block' : 'none';\n",
              "        })();\n",
              "      </script>\n",
              "    </div>\n",
              "\n",
              "    </div>\n",
              "  </div>\n"
            ],
            "application/vnd.google.colaboratory.intrinsic+json": {
              "type": "dataframe",
              "variable_name": "df_gb"
            }
          },
          "metadata": {},
          "execution_count": 22
        }
      ]
    },
    {
      "cell_type": "code",
      "source": [
        "df_gb.rename(columns={\n",
        "    'publishedAt': 'published_at',\n",
        "    'channelId': 'channel_id',\n",
        "    'channelTitle': 'channel_title',\n",
        "    'categoryId': 'category_id',\n",
        "    'trending_date': 'trending_date',\n",
        "    'view_count': 'views',\n",
        "    'like_count': 'likes',\n",
        "    'dislike_count': 'dislikes',\n",
        "    'comment_count': 'comments',\n",
        "    'thumbnail_link': 'thumbnail',\n",
        "    'comments_disabled': 'comments_disabled',\n",
        "    'ratings_disabled': 'ratings_disabled'\n",
        "}, inplace=True)\n"
      ],
      "metadata": {
        "id": "Xv0fq1uKeOa2"
      },
      "execution_count": null,
      "outputs": []
    },
    {
      "cell_type": "code",
      "source": [
        "# Convert to datetime format\n",
        "df_gb['published_at'] = pd.to_datetime(df_gb['published_at'], errors='coerce')\n",
        "df_gb['trending_date'] = pd.to_datetime(df_gb['trending_date'], format='%y.%d.%m', errors='coerce')\n"
      ],
      "metadata": {
        "id": "A8iFbOMAeR0D"
      },
      "execution_count": null,
      "outputs": []
    },
    {
      "cell_type": "code",
      "source": [
        "# Drop duplicate video entries (same video on same trending day)\n",
        "df_gb.drop_duplicates(subset=['video_id', 'trending_date'], inplace=True)\n",
        "\n",
        "# Drop rows with missing critical dates\n",
        "df_gb.dropna(subset=['published_at', 'trending_date'], inplace=True)\n"
      ],
      "metadata": {
        "id": "G5yNihQReU__"
      },
      "execution_count": null,
      "outputs": []
    },
    {
      "cell_type": "code",
      "source": [
        "df_gb.to_csv('/content/cleaned_gb.csv', index=False)\n"
      ],
      "metadata": {
        "id": "vD7EebdeeYAI"
      },
      "execution_count": null,
      "outputs": []
    },
    {
      "cell_type": "code",
      "source": [
        "from google.colab import files\n",
        "files.download('/content/cleaned_gb.csv')\n"
      ],
      "metadata": {
        "colab": {
          "base_uri": "https://localhost:8080/",
          "height": 17
        },
        "id": "qbqLW4Tned12",
        "outputId": "e89ce902-244d-4bce-c9fc-c9c20e012b53"
      },
      "execution_count": null,
      "outputs": [
        {
          "output_type": "display_data",
          "data": {
            "text/plain": [
              "<IPython.core.display.Javascript object>"
            ],
            "application/javascript": [
              "\n",
              "    async function download(id, filename, size) {\n",
              "      if (!google.colab.kernel.accessAllowed) {\n",
              "        return;\n",
              "      }\n",
              "      const div = document.createElement('div');\n",
              "      const label = document.createElement('label');\n",
              "      label.textContent = `Downloading \"${filename}\": `;\n",
              "      div.appendChild(label);\n",
              "      const progress = document.createElement('progress');\n",
              "      progress.max = size;\n",
              "      div.appendChild(progress);\n",
              "      document.body.appendChild(div);\n",
              "\n",
              "      const buffers = [];\n",
              "      let downloaded = 0;\n",
              "\n",
              "      const channel = await google.colab.kernel.comms.open(id);\n",
              "      // Send a message to notify the kernel that we're ready.\n",
              "      channel.send({})\n",
              "\n",
              "      for await (const message of channel.messages) {\n",
              "        // Send a message to notify the kernel that we're ready.\n",
              "        channel.send({})\n",
              "        if (message.buffers) {\n",
              "          for (const buffer of message.buffers) {\n",
              "            buffers.push(buffer);\n",
              "            downloaded += buffer.byteLength;\n",
              "            progress.value = downloaded;\n",
              "          }\n",
              "        }\n",
              "      }\n",
              "      const blob = new Blob(buffers, {type: 'application/binary'});\n",
              "      const a = document.createElement('a');\n",
              "      a.href = window.URL.createObjectURL(blob);\n",
              "      a.download = filename;\n",
              "      div.appendChild(a);\n",
              "      a.click();\n",
              "      div.remove();\n",
              "    }\n",
              "  "
            ]
          },
          "metadata": {}
        },
        {
          "output_type": "display_data",
          "data": {
            "text/plain": [
              "<IPython.core.display.Javascript object>"
            ],
            "application/javascript": [
              "download(\"download_698ac0bb-7a3b-4cd8-8edd-bab269497ef9\", \"cleaned_gb.csv\", 171)"
            ]
          },
          "metadata": {}
        }
      ]
    },
    {
      "cell_type": "code",
      "source": [
        "!pip install textblob\n"
      ],
      "metadata": {
        "colab": {
          "base_uri": "https://localhost:8080/"
        },
        "id": "z3xOxHGEfHDr",
        "outputId": "026fdca5-e9fb-4fdd-9622-ae70caa7ee3b"
      },
      "execution_count": null,
      "outputs": [
        {
          "output_type": "stream",
          "name": "stdout",
          "text": [
            "Requirement already satisfied: textblob in /usr/local/lib/python3.11/dist-packages (0.19.0)\n",
            "Requirement already satisfied: nltk>=3.9 in /usr/local/lib/python3.11/dist-packages (from textblob) (3.9.1)\n",
            "Requirement already satisfied: click in /usr/local/lib/python3.11/dist-packages (from nltk>=3.9->textblob) (8.2.1)\n",
            "Requirement already satisfied: joblib in /usr/local/lib/python3.11/dist-packages (from nltk>=3.9->textblob) (1.5.1)\n",
            "Requirement already satisfied: regex>=2021.8.3 in /usr/local/lib/python3.11/dist-packages (from nltk>=3.9->textblob) (2024.11.6)\n",
            "Requirement already satisfied: tqdm in /usr/local/lib/python3.11/dist-packages (from nltk>=3.9->textblob) (4.67.1)\n"
          ]
        }
      ]
    },
    {
      "cell_type": "code",
      "source": [
        "from textblob import TextBlob\n",
        "\n",
        "# Define sentiment analysis function\n",
        "def get_sentiment(text):\n",
        "    return TextBlob(str(text)).sentiment.polarity\n"
      ],
      "metadata": {
        "id": "Ra6s6CAkfLHO"
      },
      "execution_count": null,
      "outputs": []
    },
    {
      "cell_type": "code",
      "source": [
        "def get_sentiment(text):\n",
        "    return TextBlob(str(text)).sentiment.polarity\n",
        "\n",
        "# Apply to title and tags for each region\n",
        "df_us['title_sentiment'] = df_us['title'].apply(get_sentiment)\n",
        "df_us['tags_sentiment'] = df_us['tags'].apply(get_sentiment)\n",
        "\n",
        "df_in['title_sentiment'] = df_in['title'].apply(get_sentiment)\n",
        "df_in['tags_sentiment'] = df_in['tags'].apply(get_sentiment)\n",
        "\n",
        "df_gb['title_sentiment'] = df_gb['title'].apply(get_sentiment)\n",
        "df_gb['tags_sentiment'] = df_gb['tags'].apply(get_sentiment)\n"
      ],
      "metadata": {
        "colab": {
          "base_uri": "https://localhost:8080/",
          "height": 218
        },
        "id": "nRqQ3EN-fPi5",
        "outputId": "c0a35a03-d61c-4365-deaa-e27f7ed8f8db"
      },
      "execution_count": null,
      "outputs": [
        {
          "output_type": "error",
          "ename": "NameError",
          "evalue": "name 'df_us' is not defined",
          "traceback": [
            "\u001b[0;31m---------------------------------------------------------------------------\u001b[0m",
            "\u001b[0;31mNameError\u001b[0m                                 Traceback (most recent call last)",
            "\u001b[0;32m/tmp/ipython-input-30-3204632643.py\u001b[0m in \u001b[0;36m<cell line: 0>\u001b[0;34m()\u001b[0m\n\u001b[1;32m      3\u001b[0m \u001b[0;34m\u001b[0m\u001b[0m\n\u001b[1;32m      4\u001b[0m \u001b[0;31m# Apply to title and tags for each region\u001b[0m\u001b[0;34m\u001b[0m\u001b[0;34m\u001b[0m\u001b[0m\n\u001b[0;32m----> 5\u001b[0;31m \u001b[0mdf_us\u001b[0m\u001b[0;34m[\u001b[0m\u001b[0;34m'title_sentiment'\u001b[0m\u001b[0;34m]\u001b[0m \u001b[0;34m=\u001b[0m \u001b[0mdf_us\u001b[0m\u001b[0;34m[\u001b[0m\u001b[0;34m'title'\u001b[0m\u001b[0;34m]\u001b[0m\u001b[0;34m.\u001b[0m\u001b[0mapply\u001b[0m\u001b[0;34m(\u001b[0m\u001b[0mget_sentiment\u001b[0m\u001b[0;34m)\u001b[0m\u001b[0;34m\u001b[0m\u001b[0;34m\u001b[0m\u001b[0m\n\u001b[0m\u001b[1;32m      6\u001b[0m \u001b[0mdf_us\u001b[0m\u001b[0;34m[\u001b[0m\u001b[0;34m'tags_sentiment'\u001b[0m\u001b[0;34m]\u001b[0m \u001b[0;34m=\u001b[0m \u001b[0mdf_us\u001b[0m\u001b[0;34m[\u001b[0m\u001b[0;34m'tags'\u001b[0m\u001b[0;34m]\u001b[0m\u001b[0;34m.\u001b[0m\u001b[0mapply\u001b[0m\u001b[0;34m(\u001b[0m\u001b[0mget_sentiment\u001b[0m\u001b[0;34m)\u001b[0m\u001b[0;34m\u001b[0m\u001b[0;34m\u001b[0m\u001b[0m\n\u001b[1;32m      7\u001b[0m \u001b[0;34m\u001b[0m\u001b[0m\n",
            "\u001b[0;31mNameError\u001b[0m: name 'df_us' is not defined"
          ]
        }
      ]
    },
    {
      "cell_type": "code",
      "source": [
        "# YouTube Trending Data Cleaning and Sentiment Analysis\n",
        "\n",
        "# ✅ STEP 0: Install and Import Required Libraries\n",
        "!pip install textblob\n",
        "from textblob import TextBlob\n",
        "import pandas as pd\n",
        "\n",
        "# ✅ STEP 1: Upload datasets manually through Colab file browser\n",
        "# Example filenames: 'US_youtube_trending_data.csv', 'IN_youtube_trending_data.csv', 'GB_youtube_trending_data.csv'\n",
        "\n",
        "# ✅ STEP 2: Load datasets\n",
        "us_raw = pd.read_csv('/content/US_youtube_trending_data.csv', on_bad_lines='skip')\n",
        "in_raw = pd.read_csv('/content/IN_youtube_trending_data.csv', on_bad_lines='skip')\n",
        "gb_raw = pd.read_csv('/content/GB_youtube_trending_data.csv', on_bad_lines='skip')\n",
        "\n",
        "# ✅ STEP 3: Clean each dataset (remove duplicates and nulls)\n",
        "us_cleaned = us_raw.drop_duplicates().dropna()\n",
        "in_cleaned = in_raw.drop_duplicates().dropna()\n",
        "gb_cleaned = gb_raw.drop_duplicates().dropna()\n",
        "\n",
        "# ✅ STEP 4: Save cleaned files for Tableau\n",
        "us_cleaned.to_csv('/content/cleaned_us.csv', index=False)\n",
        "in_cleaned.to_csv('/content/cleaned_in.csv', index=False)\n",
        "gb_cleaned.to_csv('/content/cleaned_gb.csv', index=False)\n",
        "\n",
        "# ✅ STEP 5: Reload cleaned datasets\n",
        "us_df = pd.read_csv('/content/cleaned_us.csv')\n",
        "in_df = pd.read_csv('/content/cleaned_in.csv')\n",
        "gb_df = pd.read_csv('/content/cleaned_gb.csv')\n",
        "\n",
        "# ✅ STEP 6: Define sentiment analysis function\n",
        "def get_sentiment(text):\n",
        "    if pd.isnull(text):\n",
        "        return 0\n",
        "    return TextBlob(str(text)).sentiment.polarity\n",
        "\n",
        "# ✅ STEP 7: Apply sentiment analysis to title and tags\n",
        "us_df['title_sentiment'] = us_df['title'].apply(get_sentiment)\n",
        "us_df['tags_sentiment'] = us_df['tags'].apply(get_sentiment)\n",
        "\n",
        "in_df['title_sentiment'] = in_df['title'].apply(get_sentiment)\n",
        "in_df['tags_sentiment'] = in_df['tags'].apply(get_sentiment)\n",
        "\n",
        "gb_df['title_sentiment'] = gb_df['title'].apply(get_sentiment)\n",
        "gb_df['tags_sentiment'] = gb_df['tags'].apply(get_sentiment)\n",
        "\n",
        "# ✅ STEP 8: Save final datasets for Tableau\n",
        "us_df.to_csv('/content/final_us.csv', index=False)\n",
        "in_df.to_csv('/content/final_in.csv', index=False)\n",
        "gb_df.to_csv('/content/final_gb.csv', index=False)\n",
        "\n",
        "# ✅ STEP 9: Download the files from Colab to your local system\n",
        "from google.colab import files\n",
        "files.download('/content/final_us.csv')\n",
        "files.download('/content/final_in.csv')\n",
        "files.download('/content/final_gb.csv')\n"
      ],
      "metadata": {
        "colab": {
          "base_uri": "https://localhost:8080/",
          "height": 658
        },
        "id": "H3cDhhyez_m6",
        "outputId": "18b4f12e-cd5d-46fc-a042-80ce975104dc"
      },
      "execution_count": null,
      "outputs": [
        {
          "output_type": "stream",
          "name": "stdout",
          "text": [
            "Requirement already satisfied: textblob in /usr/local/lib/python3.11/dist-packages (0.19.0)\n",
            "Requirement already satisfied: nltk>=3.9 in /usr/local/lib/python3.11/dist-packages (from textblob) (3.9.1)\n",
            "Requirement already satisfied: click in /usr/local/lib/python3.11/dist-packages (from nltk>=3.9->textblob) (8.2.1)\n",
            "Requirement already satisfied: joblib in /usr/local/lib/python3.11/dist-packages (from nltk>=3.9->textblob) (1.5.1)\n",
            "Requirement already satisfied: regex>=2021.8.3 in /usr/local/lib/python3.11/dist-packages (from nltk>=3.9->textblob) (2024.11.6)\n",
            "Requirement already satisfied: tqdm in /usr/local/lib/python3.11/dist-packages (from nltk>=3.9->textblob) (4.67.1)\n"
          ]
        },
        {
          "output_type": "error",
          "ename": "ParserError",
          "evalue": "Error tokenizing data. C error: EOF inside string starting at row 50181",
          "traceback": [
            "\u001b[0;31m---------------------------------------------------------------------------\u001b[0m",
            "\u001b[0;31mParserError\u001b[0m                               Traceback (most recent call last)",
            "\u001b[0;32m/tmp/ipython-input-5-3956537511.py\u001b[0m in \u001b[0;36m<cell line: 0>\u001b[0;34m()\u001b[0m\n\u001b[1;32m     11\u001b[0m \u001b[0;31m# ✅ STEP 2: Load datasets\u001b[0m\u001b[0;34m\u001b[0m\u001b[0;34m\u001b[0m\u001b[0m\n\u001b[1;32m     12\u001b[0m \u001b[0mus_raw\u001b[0m \u001b[0;34m=\u001b[0m \u001b[0mpd\u001b[0m\u001b[0;34m.\u001b[0m\u001b[0mread_csv\u001b[0m\u001b[0;34m(\u001b[0m\u001b[0;34m'/content/US_youtube_trending_data.csv'\u001b[0m\u001b[0;34m,\u001b[0m \u001b[0mon_bad_lines\u001b[0m\u001b[0;34m=\u001b[0m\u001b[0;34m'skip'\u001b[0m\u001b[0;34m)\u001b[0m\u001b[0;34m\u001b[0m\u001b[0;34m\u001b[0m\u001b[0m\n\u001b[0;32m---> 13\u001b[0;31m \u001b[0min_raw\u001b[0m \u001b[0;34m=\u001b[0m \u001b[0mpd\u001b[0m\u001b[0;34m.\u001b[0m\u001b[0mread_csv\u001b[0m\u001b[0;34m(\u001b[0m\u001b[0;34m'/content/IN_youtube_trending_data.csv'\u001b[0m\u001b[0;34m,\u001b[0m \u001b[0mon_bad_lines\u001b[0m\u001b[0;34m=\u001b[0m\u001b[0;34m'skip'\u001b[0m\u001b[0;34m)\u001b[0m\u001b[0;34m\u001b[0m\u001b[0;34m\u001b[0m\u001b[0m\n\u001b[0m\u001b[1;32m     14\u001b[0m \u001b[0mgb_raw\u001b[0m \u001b[0;34m=\u001b[0m \u001b[0mpd\u001b[0m\u001b[0;34m.\u001b[0m\u001b[0mread_csv\u001b[0m\u001b[0;34m(\u001b[0m\u001b[0;34m'/content/GB_youtube_trending_data.csv'\u001b[0m\u001b[0;34m,\u001b[0m \u001b[0mon_bad_lines\u001b[0m\u001b[0;34m=\u001b[0m\u001b[0;34m'skip'\u001b[0m\u001b[0;34m)\u001b[0m\u001b[0;34m\u001b[0m\u001b[0;34m\u001b[0m\u001b[0m\n\u001b[1;32m     15\u001b[0m \u001b[0;34m\u001b[0m\u001b[0m\n",
            "\u001b[0;32m/usr/local/lib/python3.11/dist-packages/pandas/io/parsers/readers.py\u001b[0m in \u001b[0;36mread_csv\u001b[0;34m(filepath_or_buffer, sep, delimiter, header, names, index_col, usecols, dtype, engine, converters, true_values, false_values, skipinitialspace, skiprows, skipfooter, nrows, na_values, keep_default_na, na_filter, verbose, skip_blank_lines, parse_dates, infer_datetime_format, keep_date_col, date_parser, date_format, dayfirst, cache_dates, iterator, chunksize, compression, thousands, decimal, lineterminator, quotechar, quoting, doublequote, escapechar, comment, encoding, encoding_errors, dialect, on_bad_lines, delim_whitespace, low_memory, memory_map, float_precision, storage_options, dtype_backend)\u001b[0m\n\u001b[1;32m   1024\u001b[0m     \u001b[0mkwds\u001b[0m\u001b[0;34m.\u001b[0m\u001b[0mupdate\u001b[0m\u001b[0;34m(\u001b[0m\u001b[0mkwds_defaults\u001b[0m\u001b[0;34m)\u001b[0m\u001b[0;34m\u001b[0m\u001b[0;34m\u001b[0m\u001b[0m\n\u001b[1;32m   1025\u001b[0m \u001b[0;34m\u001b[0m\u001b[0m\n\u001b[0;32m-> 1026\u001b[0;31m     \u001b[0;32mreturn\u001b[0m \u001b[0m_read\u001b[0m\u001b[0;34m(\u001b[0m\u001b[0mfilepath_or_buffer\u001b[0m\u001b[0;34m,\u001b[0m \u001b[0mkwds\u001b[0m\u001b[0;34m)\u001b[0m\u001b[0;34m\u001b[0m\u001b[0;34m\u001b[0m\u001b[0m\n\u001b[0m\u001b[1;32m   1027\u001b[0m \u001b[0;34m\u001b[0m\u001b[0m\n\u001b[1;32m   1028\u001b[0m \u001b[0;34m\u001b[0m\u001b[0m\n",
            "\u001b[0;32m/usr/local/lib/python3.11/dist-packages/pandas/io/parsers/readers.py\u001b[0m in \u001b[0;36m_read\u001b[0;34m(filepath_or_buffer, kwds)\u001b[0m\n\u001b[1;32m    624\u001b[0m \u001b[0;34m\u001b[0m\u001b[0m\n\u001b[1;32m    625\u001b[0m     \u001b[0;32mwith\u001b[0m \u001b[0mparser\u001b[0m\u001b[0;34m:\u001b[0m\u001b[0;34m\u001b[0m\u001b[0;34m\u001b[0m\u001b[0m\n\u001b[0;32m--> 626\u001b[0;31m         \u001b[0;32mreturn\u001b[0m \u001b[0mparser\u001b[0m\u001b[0;34m.\u001b[0m\u001b[0mread\u001b[0m\u001b[0;34m(\u001b[0m\u001b[0mnrows\u001b[0m\u001b[0;34m)\u001b[0m\u001b[0;34m\u001b[0m\u001b[0;34m\u001b[0m\u001b[0m\n\u001b[0m\u001b[1;32m    627\u001b[0m \u001b[0;34m\u001b[0m\u001b[0m\n\u001b[1;32m    628\u001b[0m \u001b[0;34m\u001b[0m\u001b[0m\n",
            "\u001b[0;32m/usr/local/lib/python3.11/dist-packages/pandas/io/parsers/readers.py\u001b[0m in \u001b[0;36mread\u001b[0;34m(self, nrows)\u001b[0m\n\u001b[1;32m   1921\u001b[0m                     \u001b[0mcolumns\u001b[0m\u001b[0;34m,\u001b[0m\u001b[0;34m\u001b[0m\u001b[0;34m\u001b[0m\u001b[0m\n\u001b[1;32m   1922\u001b[0m                     \u001b[0mcol_dict\u001b[0m\u001b[0;34m,\u001b[0m\u001b[0;34m\u001b[0m\u001b[0;34m\u001b[0m\u001b[0m\n\u001b[0;32m-> 1923\u001b[0;31m                 \u001b[0;34m)\u001b[0m \u001b[0;34m=\u001b[0m \u001b[0mself\u001b[0m\u001b[0;34m.\u001b[0m\u001b[0m_engine\u001b[0m\u001b[0;34m.\u001b[0m\u001b[0mread\u001b[0m\u001b[0;34m(\u001b[0m  \u001b[0;31m# type: ignore[attr-defined]\u001b[0m\u001b[0;34m\u001b[0m\u001b[0;34m\u001b[0m\u001b[0m\n\u001b[0m\u001b[1;32m   1924\u001b[0m                     \u001b[0mnrows\u001b[0m\u001b[0;34m\u001b[0m\u001b[0;34m\u001b[0m\u001b[0m\n\u001b[1;32m   1925\u001b[0m                 )\n",
            "\u001b[0;32m/usr/local/lib/python3.11/dist-packages/pandas/io/parsers/c_parser_wrapper.py\u001b[0m in \u001b[0;36mread\u001b[0;34m(self, nrows)\u001b[0m\n\u001b[1;32m    232\u001b[0m         \u001b[0;32mtry\u001b[0m\u001b[0;34m:\u001b[0m\u001b[0;34m\u001b[0m\u001b[0;34m\u001b[0m\u001b[0m\n\u001b[1;32m    233\u001b[0m             \u001b[0;32mif\u001b[0m \u001b[0mself\u001b[0m\u001b[0;34m.\u001b[0m\u001b[0mlow_memory\u001b[0m\u001b[0;34m:\u001b[0m\u001b[0;34m\u001b[0m\u001b[0;34m\u001b[0m\u001b[0m\n\u001b[0;32m--> 234\u001b[0;31m                 \u001b[0mchunks\u001b[0m \u001b[0;34m=\u001b[0m \u001b[0mself\u001b[0m\u001b[0;34m.\u001b[0m\u001b[0m_reader\u001b[0m\u001b[0;34m.\u001b[0m\u001b[0mread_low_memory\u001b[0m\u001b[0;34m(\u001b[0m\u001b[0mnrows\u001b[0m\u001b[0;34m)\u001b[0m\u001b[0;34m\u001b[0m\u001b[0;34m\u001b[0m\u001b[0m\n\u001b[0m\u001b[1;32m    235\u001b[0m                 \u001b[0;31m# destructive to chunks\u001b[0m\u001b[0;34m\u001b[0m\u001b[0;34m\u001b[0m\u001b[0m\n\u001b[1;32m    236\u001b[0m                 \u001b[0mdata\u001b[0m \u001b[0;34m=\u001b[0m \u001b[0m_concatenate_chunks\u001b[0m\u001b[0;34m(\u001b[0m\u001b[0mchunks\u001b[0m\u001b[0;34m)\u001b[0m\u001b[0;34m\u001b[0m\u001b[0;34m\u001b[0m\u001b[0m\n",
            "\u001b[0;32mparsers.pyx\u001b[0m in \u001b[0;36mpandas._libs.parsers.TextReader.read_low_memory\u001b[0;34m()\u001b[0m\n",
            "\u001b[0;32mparsers.pyx\u001b[0m in \u001b[0;36mpandas._libs.parsers.TextReader._read_rows\u001b[0;34m()\u001b[0m\n",
            "\u001b[0;32mparsers.pyx\u001b[0m in \u001b[0;36mpandas._libs.parsers.TextReader._tokenize_rows\u001b[0;34m()\u001b[0m\n",
            "\u001b[0;32mparsers.pyx\u001b[0m in \u001b[0;36mpandas._libs.parsers.TextReader._check_tokenize_status\u001b[0;34m()\u001b[0m\n",
            "\u001b[0;32mparsers.pyx\u001b[0m in \u001b[0;36mpandas._libs.parsers.raise_parser_error\u001b[0;34m()\u001b[0m\n",
            "\u001b[0;31mParserError\u001b[0m: Error tokenizing data. C error: EOF inside string starting at row 50181"
          ]
        }
      ]
    }
  ]
}